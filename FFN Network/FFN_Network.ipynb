{
  "nbformat": 4,
  "nbformat_minor": 0,
  "metadata": {
    "colab": {
      "provenance": []
    },
    "kernelspec": {
      "name": "python3",
      "display_name": "Python 3"
    },
    "language_info": {
      "name": "python"
    }
  },
  "cells": [
    {
      "cell_type": "code",
      "execution_count": 1,
      "metadata": {
        "id": "zie6E1ECJCGe"
      },
      "outputs": [],
      "source": [
        "import math\n",
        "import pandas as pd\n",
        "from keras import models, layers, optimizers, regularizers\n",
        "import numpy as np\n",
        "import random\n",
        "from sklearn import model_selection, preprocessing\n",
        "import tensorflow as tf\n",
        "from tqdm import tqdm\n",
        "import matplotlib.pyplot as plt"
      ]
    },
    {
      "cell_type": "code",
      "source": [
        "file_name = 'SAheart.data'\n",
        "data = pd.read_csv(file_name, sep=',', index_col=0)"
      ],
      "metadata": {
        "id": "R48ouPYPJezt"
      },
      "execution_count": 3,
      "outputs": []
    },
    {
      "cell_type": "code",
      "source": [
        "data['famhist'] = data['famhist'] == 'Present'\n",
        "data.head()"
      ],
      "metadata": {
        "colab": {
          "base_uri": "https://localhost:8080/",
          "height": 238
        },
        "id": "dCdollCVJhKr",
        "outputId": "88e8bc3c-837b-4013-a666-87738f697419"
      },
      "execution_count": 4,
      "outputs": [
        {
          "output_type": "execute_result",
          "data": {
            "text/plain": [
              "           sbp  tobacco   ldl  adiposity  famhist  typea  obesity  alcohol  \\\n",
              "row.names                                                                    \n",
              "1          160    12.00  5.73      23.11     True     49    25.30    97.20   \n",
              "2          144     0.01  4.41      28.61    False     55    28.87     2.06   \n",
              "3          118     0.08  3.48      32.28     True     52    29.14     3.81   \n",
              "4          170     7.50  6.41      38.03     True     51    31.99    24.26   \n",
              "5          134    13.60  3.50      27.78     True     60    25.99    57.34   \n",
              "\n",
              "           age  chd  \n",
              "row.names            \n",
              "1           52    1  \n",
              "2           63    1  \n",
              "3           46    0  \n",
              "4           58    1  \n",
              "5           49    1  "
            ],
            "text/html": [
              "\n",
              "\n",
              "  <div id=\"df-dcbbea69-7f69-4688-83c0-598e0af0b30e\">\n",
              "    <div class=\"colab-df-container\">\n",
              "      <div>\n",
              "<style scoped>\n",
              "    .dataframe tbody tr th:only-of-type {\n",
              "        vertical-align: middle;\n",
              "    }\n",
              "\n",
              "    .dataframe tbody tr th {\n",
              "        vertical-align: top;\n",
              "    }\n",
              "\n",
              "    .dataframe thead th {\n",
              "        text-align: right;\n",
              "    }\n",
              "</style>\n",
              "<table border=\"1\" class=\"dataframe\">\n",
              "  <thead>\n",
              "    <tr style=\"text-align: right;\">\n",
              "      <th></th>\n",
              "      <th>sbp</th>\n",
              "      <th>tobacco</th>\n",
              "      <th>ldl</th>\n",
              "      <th>adiposity</th>\n",
              "      <th>famhist</th>\n",
              "      <th>typea</th>\n",
              "      <th>obesity</th>\n",
              "      <th>alcohol</th>\n",
              "      <th>age</th>\n",
              "      <th>chd</th>\n",
              "    </tr>\n",
              "    <tr>\n",
              "      <th>row.names</th>\n",
              "      <th></th>\n",
              "      <th></th>\n",
              "      <th></th>\n",
              "      <th></th>\n",
              "      <th></th>\n",
              "      <th></th>\n",
              "      <th></th>\n",
              "      <th></th>\n",
              "      <th></th>\n",
              "      <th></th>\n",
              "    </tr>\n",
              "  </thead>\n",
              "  <tbody>\n",
              "    <tr>\n",
              "      <th>1</th>\n",
              "      <td>160</td>\n",
              "      <td>12.00</td>\n",
              "      <td>5.73</td>\n",
              "      <td>23.11</td>\n",
              "      <td>True</td>\n",
              "      <td>49</td>\n",
              "      <td>25.30</td>\n",
              "      <td>97.20</td>\n",
              "      <td>52</td>\n",
              "      <td>1</td>\n",
              "    </tr>\n",
              "    <tr>\n",
              "      <th>2</th>\n",
              "      <td>144</td>\n",
              "      <td>0.01</td>\n",
              "      <td>4.41</td>\n",
              "      <td>28.61</td>\n",
              "      <td>False</td>\n",
              "      <td>55</td>\n",
              "      <td>28.87</td>\n",
              "      <td>2.06</td>\n",
              "      <td>63</td>\n",
              "      <td>1</td>\n",
              "    </tr>\n",
              "    <tr>\n",
              "      <th>3</th>\n",
              "      <td>118</td>\n",
              "      <td>0.08</td>\n",
              "      <td>3.48</td>\n",
              "      <td>32.28</td>\n",
              "      <td>True</td>\n",
              "      <td>52</td>\n",
              "      <td>29.14</td>\n",
              "      <td>3.81</td>\n",
              "      <td>46</td>\n",
              "      <td>0</td>\n",
              "    </tr>\n",
              "    <tr>\n",
              "      <th>4</th>\n",
              "      <td>170</td>\n",
              "      <td>7.50</td>\n",
              "      <td>6.41</td>\n",
              "      <td>38.03</td>\n",
              "      <td>True</td>\n",
              "      <td>51</td>\n",
              "      <td>31.99</td>\n",
              "      <td>24.26</td>\n",
              "      <td>58</td>\n",
              "      <td>1</td>\n",
              "    </tr>\n",
              "    <tr>\n",
              "      <th>5</th>\n",
              "      <td>134</td>\n",
              "      <td>13.60</td>\n",
              "      <td>3.50</td>\n",
              "      <td>27.78</td>\n",
              "      <td>True</td>\n",
              "      <td>60</td>\n",
              "      <td>25.99</td>\n",
              "      <td>57.34</td>\n",
              "      <td>49</td>\n",
              "      <td>1</td>\n",
              "    </tr>\n",
              "  </tbody>\n",
              "</table>\n",
              "</div>\n",
              "      <button class=\"colab-df-convert\" onclick=\"convertToInteractive('df-dcbbea69-7f69-4688-83c0-598e0af0b30e')\"\n",
              "              title=\"Convert this dataframe to an interactive table.\"\n",
              "              style=\"display:none;\">\n",
              "\n",
              "  <svg xmlns=\"http://www.w3.org/2000/svg\" height=\"24px\"viewBox=\"0 0 24 24\"\n",
              "       width=\"24px\">\n",
              "    <path d=\"M0 0h24v24H0V0z\" fill=\"none\"/>\n",
              "    <path d=\"M18.56 5.44l.94 2.06.94-2.06 2.06-.94-2.06-.94-.94-2.06-.94 2.06-2.06.94zm-11 1L8.5 8.5l.94-2.06 2.06-.94-2.06-.94L8.5 2.5l-.94 2.06-2.06.94zm10 10l.94 2.06.94-2.06 2.06-.94-2.06-.94-.94-2.06-.94 2.06-2.06.94z\"/><path d=\"M17.41 7.96l-1.37-1.37c-.4-.4-.92-.59-1.43-.59-.52 0-1.04.2-1.43.59L10.3 9.45l-7.72 7.72c-.78.78-.78 2.05 0 2.83L4 21.41c.39.39.9.59 1.41.59.51 0 1.02-.2 1.41-.59l7.78-7.78 2.81-2.81c.8-.78.8-2.07 0-2.86zM5.41 20L4 18.59l7.72-7.72 1.47 1.35L5.41 20z\"/>\n",
              "  </svg>\n",
              "      </button>\n",
              "\n",
              "\n",
              "\n",
              "    <div id=\"df-fb8eac97-3783-4f17-b65f-eee0665d708e\">\n",
              "      <button class=\"colab-df-quickchart\" onclick=\"quickchart('df-fb8eac97-3783-4f17-b65f-eee0665d708e')\"\n",
              "              title=\"Suggest charts.\"\n",
              "              style=\"display:none;\">\n",
              "\n",
              "<svg xmlns=\"http://www.w3.org/2000/svg\" height=\"24px\"viewBox=\"0 0 24 24\"\n",
              "     width=\"24px\">\n",
              "    <g>\n",
              "        <path d=\"M19 3H5c-1.1 0-2 .9-2 2v14c0 1.1.9 2 2 2h14c1.1 0 2-.9 2-2V5c0-1.1-.9-2-2-2zM9 17H7v-7h2v7zm4 0h-2V7h2v10zm4 0h-2v-4h2v4z\"/>\n",
              "    </g>\n",
              "</svg>\n",
              "      </button>\n",
              "    </div>\n",
              "\n",
              "<style>\n",
              "  .colab-df-quickchart {\n",
              "    background-color: #E8F0FE;\n",
              "    border: none;\n",
              "    border-radius: 50%;\n",
              "    cursor: pointer;\n",
              "    display: none;\n",
              "    fill: #1967D2;\n",
              "    height: 32px;\n",
              "    padding: 0 0 0 0;\n",
              "    width: 32px;\n",
              "  }\n",
              "\n",
              "  .colab-df-quickchart:hover {\n",
              "    background-color: #E2EBFA;\n",
              "    box-shadow: 0px 1px 2px rgba(60, 64, 67, 0.3), 0px 1px 3px 1px rgba(60, 64, 67, 0.15);\n",
              "    fill: #174EA6;\n",
              "  }\n",
              "\n",
              "  [theme=dark] .colab-df-quickchart {\n",
              "    background-color: #3B4455;\n",
              "    fill: #D2E3FC;\n",
              "  }\n",
              "\n",
              "  [theme=dark] .colab-df-quickchart:hover {\n",
              "    background-color: #434B5C;\n",
              "    box-shadow: 0px 1px 3px 1px rgba(0, 0, 0, 0.15);\n",
              "    filter: drop-shadow(0px 1px 2px rgba(0, 0, 0, 0.3));\n",
              "    fill: #FFFFFF;\n",
              "  }\n",
              "</style>\n",
              "\n",
              "    <script>\n",
              "      async function quickchart(key) {\n",
              "        const containerElement = document.querySelector('#' + key);\n",
              "        const charts = await google.colab.kernel.invokeFunction(\n",
              "            'suggestCharts', [key], {});\n",
              "      }\n",
              "    </script>\n",
              "\n",
              "      <script>\n",
              "\n",
              "function displayQuickchartButton(domScope) {\n",
              "  let quickchartButtonEl =\n",
              "    domScope.querySelector('#df-fb8eac97-3783-4f17-b65f-eee0665d708e button.colab-df-quickchart');\n",
              "  quickchartButtonEl.style.display =\n",
              "    google.colab.kernel.accessAllowed ? 'block' : 'none';\n",
              "}\n",
              "\n",
              "        displayQuickchartButton(document);\n",
              "      </script>\n",
              "      <style>\n",
              "    .colab-df-container {\n",
              "      display:flex;\n",
              "      flex-wrap:wrap;\n",
              "      gap: 12px;\n",
              "    }\n",
              "\n",
              "    .colab-df-convert {\n",
              "      background-color: #E8F0FE;\n",
              "      border: none;\n",
              "      border-radius: 50%;\n",
              "      cursor: pointer;\n",
              "      display: none;\n",
              "      fill: #1967D2;\n",
              "      height: 32px;\n",
              "      padding: 0 0 0 0;\n",
              "      width: 32px;\n",
              "    }\n",
              "\n",
              "    .colab-df-convert:hover {\n",
              "      background-color: #E2EBFA;\n",
              "      box-shadow: 0px 1px 2px rgba(60, 64, 67, 0.3), 0px 1px 3px 1px rgba(60, 64, 67, 0.15);\n",
              "      fill: #174EA6;\n",
              "    }\n",
              "\n",
              "    [theme=dark] .colab-df-convert {\n",
              "      background-color: #3B4455;\n",
              "      fill: #D2E3FC;\n",
              "    }\n",
              "\n",
              "    [theme=dark] .colab-df-convert:hover {\n",
              "      background-color: #434B5C;\n",
              "      box-shadow: 0px 1px 3px 1px rgba(0, 0, 0, 0.15);\n",
              "      filter: drop-shadow(0px 1px 2px rgba(0, 0, 0, 0.3));\n",
              "      fill: #FFFFFF;\n",
              "    }\n",
              "  </style>\n",
              "\n",
              "      <script>\n",
              "        const buttonEl =\n",
              "          document.querySelector('#df-dcbbea69-7f69-4688-83c0-598e0af0b30e button.colab-df-convert');\n",
              "        buttonEl.style.display =\n",
              "          google.colab.kernel.accessAllowed ? 'block' : 'none';\n",
              "\n",
              "        async function convertToInteractive(key) {\n",
              "          const element = document.querySelector('#df-dcbbea69-7f69-4688-83c0-598e0af0b30e');\n",
              "          const dataTable =\n",
              "            await google.colab.kernel.invokeFunction('convertToInteractive',\n",
              "                                                     [key], {});\n",
              "          if (!dataTable) return;\n",
              "\n",
              "          const docLinkHtml = 'Like what you see? Visit the ' +\n",
              "            '<a target=\"_blank\" href=https://colab.research.google.com/notebooks/data_table.ipynb>data table notebook</a>'\n",
              "            + ' to learn more about interactive tables.';\n",
              "          element.innerHTML = '';\n",
              "          dataTable['output_type'] = 'display_data';\n",
              "          await google.colab.output.renderOutput(dataTable, element);\n",
              "          const docLink = document.createElement('div');\n",
              "          docLink.innerHTML = docLinkHtml;\n",
              "          element.appendChild(docLink);\n",
              "        }\n",
              "      </script>\n",
              "    </div>\n",
              "  </div>\n"
            ]
          },
          "metadata": {},
          "execution_count": 4
        }
      ]
    },
    {
      "cell_type": "code",
      "source": [
        "n_test = int(math.ceil(len(data) * 0.3))\n",
        "random.seed(42)\n",
        "test_ixs = random.sample(list(range(len(data))), n_test)\n",
        "train_ixs = [ix for ix in range(len(data)) if ix not in test_ixs]\n",
        "train = data.iloc[train_ixs, :]\n",
        "test = data.iloc[test_ixs, :]\n",
        "print(len(train))\n",
        "print(len(test))"
      ],
      "metadata": {
        "colab": {
          "base_uri": "https://localhost:8080/"
        },
        "id": "1NYc-DU_JncM",
        "outputId": "fbb5d8d6-4fc8-499a-b941-32e713c502c6"
      },
      "execution_count": 5,
      "outputs": [
        {
          "output_type": "stream",
          "name": "stdout",
          "text": [
            "323\n",
            "139\n"
          ]
        }
      ]
    },
    {
      "cell_type": "code",
      "source": [
        "features = ['adiposity', 'age']\n",
        "response = 'chd'\n",
        "x_train = train[features]\n",
        "y_train = train[response]\n",
        "x_test = test[features]\n",
        "y_test = test[response]"
      ],
      "metadata": {
        "id": "Z7Mt7CTLJrrs"
      },
      "execution_count": 6,
      "outputs": []
    },
    {
      "cell_type": "code",
      "source": [
        "x_train = preprocessing.normalize(x_train)\n",
        "x_test = preprocessing.normalize(x_test)"
      ],
      "metadata": {
        "id": "C_sghPI-JwNd"
      },
      "execution_count": 7,
      "outputs": []
    },
    {
      "cell_type": "code",
      "source": [
        "hidden_units = 10\n",
        "activation = 'relu'\n",
        "l2 = 0.01\n",
        "learning_rate = 0.01\n",
        "epochs = 5\n",
        "batch_size = 16"
      ],
      "metadata": {
        "id": "Grg1W0U_JzgM"
      },
      "execution_count": 8,
      "outputs": []
    },
    {
      "cell_type": "code",
      "source": [
        "model = models.Sequential()\n",
        "\n",
        "\n",
        "model.add(layers.Dense(input_dim=len(features),\n",
        "                       units=hidden_units,\n",
        "                       activation=activation))\n",
        "\n",
        "\n",
        "model.add(layers.Dense(input_dim=hidden_units,\n",
        "                       units=1,\n",
        "                       activation='sigmoid'))\n",
        "\n",
        "\n",
        "model.compile(loss='binary_crossentropy',\n",
        "\n",
        "              optimizer=optimizers.Adam(lr=learning_rate),\n",
        "              metrics=['accuracy'])"
      ],
      "metadata": {
        "colab": {
          "base_uri": "https://localhost:8080/"
        },
        "id": "EzwKvX6RJ7sc",
        "outputId": "e502c099-1a17-48a7-d609-211864d54208"
      },
      "execution_count": 9,
      "outputs": [
        {
          "output_type": "stream",
          "name": "stderr",
          "text": [
            "/usr/local/lib/python3.10/dist-packages/keras/optimizers/legacy/adam.py:117: UserWarning: The `lr` argument is deprecated, use `learning_rate` instead.\n",
            "  super().__init__(name, **kwargs)\n"
          ]
        }
      ]
    },
    {
      "cell_type": "code",
      "source": [
        "history = model.fit(x_train, y_train, epochs=10, batch_size=batch_size)\n",
        "\n",
        "train_acc = model.evaluate(x_train, y_train, batch_size=32)[1]\n",
        "test_acc = model.evaluate(x_test, y_test, batch_size=32)[1]\n",
        "print('Training accuracy: %s' % train_acc)\n",
        "print('Testing accuracy: %s' % test_acc)\n",
        "\n",
        "losses = history.history['loss']\n",
        "plt.plot(range(len(losses)), losses, 'r')\n",
        "plt.show()"
      ],
      "metadata": {
        "colab": {
          "base_uri": "https://localhost:8080/",
          "height": 847
        },
        "id": "6yNKVOvQKCVc",
        "outputId": "869d5f14-f72d-42ba-ac17-df46d6cfacd0"
      },
      "execution_count": 10,
      "outputs": [
        {
          "output_type": "stream",
          "name": "stdout",
          "text": [
            "Epoch 1/10\n",
            "21/21 [==============================] - 2s 4ms/step - loss: 0.6834 - accuracy: 0.5480\n",
            "Epoch 2/10\n",
            "21/21 [==============================] - 0s 7ms/step - loss: 0.6286 - accuracy: 0.6718\n",
            "Epoch 3/10\n",
            "21/21 [==============================] - 0s 2ms/step - loss: 0.6264 - accuracy: 0.6718\n",
            "Epoch 4/10\n",
            "21/21 [==============================] - 0s 3ms/step - loss: 0.6253 - accuracy: 0.6718\n",
            "Epoch 5/10\n",
            "21/21 [==============================] - 0s 4ms/step - loss: 0.6271 - accuracy: 0.6718\n",
            "Epoch 6/10\n",
            "21/21 [==============================] - 0s 3ms/step - loss: 0.6255 - accuracy: 0.6718\n",
            "Epoch 7/10\n",
            "21/21 [==============================] - 0s 3ms/step - loss: 0.6243 - accuracy: 0.6718\n",
            "Epoch 8/10\n",
            "21/21 [==============================] - 0s 4ms/step - loss: 0.6231 - accuracy: 0.6718\n",
            "Epoch 9/10\n",
            "21/21 [==============================] - 0s 3ms/step - loss: 0.6237 - accuracy: 0.6718\n",
            "Epoch 10/10\n",
            "21/21 [==============================] - 0s 3ms/step - loss: 0.6232 - accuracy: 0.6718\n",
            "11/11 [==============================] - 0s 5ms/step - loss: 0.6214 - accuracy: 0.6718\n",
            "5/5 [==============================] - 0s 3ms/step - loss: 0.6690 - accuracy: 0.6115\n",
            "Training accuracy: 0.6718266010284424\n",
            "Testing accuracy: 0.6115108132362366\n"
          ]
        },
        {
          "output_type": "display_data",
          "data": {
            "text/plain": [
              "<Figure size 640x480 with 1 Axes>"
            ],
            "image/png": "[encoded data removed]"
          },
          "metadata": {}
        }
      ]
    },
    {
      "cell_type": "code",
      "source": [
        "def train_and_evaluate(model, x_train, y_train, x_test, y_test, n=20):\n",
        "    train_accs = []\n",
        "    test_accs = []\n",
        "    with tqdm(total=n) as progress_bar:\n",
        "        for _ in range(n):\n",
        "            model.fit(\n",
        "                x_train,\n",
        "                y_train,\n",
        "                epochs=epochs,\n",
        "                batch_size=batch_size,\n",
        "                verbose=False)\n",
        "            train_accs.append(model.evaluate(x_train, y_train, batch_size=32, verbose=False)[1])\n",
        "            test_accs.append(model.evaluate(x_test, y_test, batch_size=32, verbose=False)[1])\n",
        "            progress_bar.update()\n",
        "    print('Avgerage Training Accuracy: %s' % np.average(train_accs))\n",
        "    print('Avgerage Testing Accuracy: %s' % np.average(test_accs))\n",
        "    return train_accs, test_accs"
      ],
      "metadata": {
        "id": "e9lHtgFBKGnM"
      },
      "execution_count": 11,
      "outputs": []
    },
    {
      "cell_type": "code",
      "source": [
        "test_accs = train_and_evaluate(model, x_train, y_train, x_test, y_test)"
      ],
      "metadata": {
        "colab": {
          "base_uri": "https://localhost:8080/"
        },
        "id": "hYYM9eS3KMGc",
        "outputId": "3c51881c-daf3-42ec-d4f4-9fc9ba750493"
      },
      "execution_count": 12,
      "outputs": [
        {
          "output_type": "stream",
          "name": "stderr",
          "text": [
            "100%|██████████| 20/20 [00:09<00:00,  2.00it/s]"
          ]
        },
        {
          "output_type": "stream",
          "name": "stdout",
          "text": [
            "Avgerage Training Accuracy: 0.6718266010284424\n",
            "Avgerage Testing Accuracy: 0.6115108132362366\n"
          ]
        },
        {
          "output_type": "stream",
          "name": "stderr",
          "text": [
            "\n"
          ]
        }
      ]
    },
    {
      "cell_type": "code",
      "source": [
        "plt.hist(test_accs)\n",
        "plt.show()"
      ],
      "metadata": {
        "colab": {
          "base_uri": "https://localhost:8080/",
          "height": 430
        },
        "id": "PrVCCg_4KPgM",
        "outputId": "06c36875-bb7c-4b68-81a9-8cdfc0ea5154"
      },
      "execution_count": 13,
      "outputs": [
        {
          "output_type": "display_data",
          "data": {
            "text/plain": [
              "<Figure size 640x480 with 1 Axes>"
            ],
            "image/png": "[encoded data removed]"
          },
          "metadata": {}
        }
      ]
    },
    {
      "cell_type": "code",
      "source": [
        "print('Min: %s' % np.min(test_accs))\n",
        "print('Max: %s' % np.max(test_accs))"
      ],
      "metadata": {
        "colab": {
          "base_uri": "https://localhost:8080/"
        },
        "id": "i7RCJh5uKV1M",
        "outputId": "80fd6142-dfb0-4834-f3ca-b9a1774027fc"
      },
      "execution_count": 14,
      "outputs": [
        {
          "output_type": "stream",
          "name": "stdout",
          "text": [
            "Min: 0.6115108132362366\n",
            "Max: 0.6718266010284424\n"
          ]
        }
      ]
    },
    {
      "cell_type": "code",
      "source": [
        "hidden_units = 10\n",
        "activation = 'relu'\n",
        "l2 = 0.01\n",
        "learning_rate = 0.01\n",
        "epochs = 5\n",
        "batch_size = 16"
      ],
      "metadata": {
        "id": "N626MxMaKXj8"
      },
      "execution_count": 15,
      "outputs": []
    },
    {
      "cell_type": "code",
      "source": [
        "model = models.Sequential()\n",
        "\n",
        "# add the hidden layer\n",
        "model.add(layers.Dense(input_dim=len(features),\n",
        "                       units=hidden_units,\n",
        "                       activation=activation))\n",
        "\n",
        "# add the output layer\n",
        "model.add(layers.Dense(input_dim=hidden_units,\n",
        "                       units=1,\n",
        "                       activation='sigmoid'))\n",
        "\n",
        "# define our loss function and optimizer\n",
        "model.compile(loss='binary_crossentropy',\n",
        "              # Adam is a kind of gradient descent\n",
        "              optimizer=optimizers.Adam(lr=learning_rate),\n",
        "              metrics=['accuracy'])"
      ],
      "metadata": {
        "id": "LqwAoGpKKmZb"
      },
      "execution_count": 16,
      "outputs": []
    },
    {
      "cell_type": "code",
      "source": [
        "train_and_evaluate(model, x_train, y_train, x_test, y_test)"
      ],
      "metadata": {
        "colab": {
          "base_uri": "https://localhost:8080/"
        },
        "id": "dD73-GFeKryL",
        "outputId": "92b416d4-af25-450a-fe96-ca37fae8fb84"
      },
      "execution_count": 17,
      "outputs": [
        {
          "output_type": "stream",
          "name": "stderr",
          "text": [
            "100%|██████████| 20/20 [00:11<00:00,  1.79it/s]"
          ]
        },
        {
          "output_type": "stream",
          "name": "stdout",
          "text": [
            "Avgerage Training Accuracy: 0.6589783221483231\n",
            "Avgerage Testing Accuracy: 0.6169064819812775\n"
          ]
        },
        {
          "output_type": "stream",
          "name": "stderr",
          "text": [
            "\n"
          ]
        },
        {
          "output_type": "execute_result",
          "data": {
            "text/plain": [
              "([0.6718266010284424,\n",
              "  0.6718266010284424,\n",
              "  0.6718266010284424,\n",
              "  0.6656346917152405,\n",
              "  0.6625387072563171,\n",
              "  0.6656346917152405,\n",
              "  0.6625387072563171,\n",
              "  0.6594427227973938,\n",
              "  0.6594427227973938,\n",
              "  0.6656346917152405,\n",
              "  0.6656346917152405,\n",
              "  0.6594427227973938,\n",
              "  0.6501547694206238,\n",
              "  0.6532507538795471,\n",
              "  0.6501547694206238,\n",
              "  0.6532507538795471,\n",
              "  0.6501547694206238,\n",
              "  0.6470588445663452,\n",
              "  0.6408668756484985,\n",
              "  0.6532507538795471],\n",
              " [0.6115108132362366,\n",
              "  0.6115108132362366,\n",
              "  0.6115108132362366,\n",
              "  0.6115108132362366,\n",
              "  0.6115108132362366,\n",
              "  0.6115108132362366,\n",
              "  0.6115108132362366,\n",
              "  0.6187050342559814,\n",
              "  0.6187050342559814,\n",
              "  0.6115108132362366,\n",
              "  0.6115108132362366,\n",
              "  0.6187050342559814,\n",
              "  0.633093535900116,\n",
              "  0.6187050342559814,\n",
              "  0.6258992552757263,\n",
              "  0.6187050342559814,\n",
              "  0.6115108132362366,\n",
              "  0.6258992552757263,\n",
              "  0.6258992552757263,\n",
              "  0.6187050342559814])"
            ]
          },
          "metadata": {},
          "execution_count": 17
        }
      ]
    },
    {
      "cell_type": "code",
      "source": [],
      "metadata": {
        "id": "FJVMvZqSKvtc"
      },
      "execution_count": null,
      "outputs": []
    }
  ]
}