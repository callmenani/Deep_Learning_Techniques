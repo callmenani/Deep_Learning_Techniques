{
  "nbformat": 4,
  "nbformat_minor": 0,
  "metadata": {
    "colab": {
      "provenance": []
    },
    "kernelspec": {
      "name": "python3",
      "display_name": "Python 3"
    },
    "language_info": {
      "name": "python"
    }
  },
  "cells": [
    {
      "cell_type": "code",
      "execution_count": 1,
      "metadata": {
        "id": "khtnAR5ja7-t"
      },
      "outputs": [],
      "source": [
        "import numpy as np"
      ]
    },
    {
      "cell_type": "code",
      "source": [
        "class Perceptron:\n",
        "    def __init__(self, learning_rate=0.01, epochs=100):\n",
        "        self.learning_rate = learning_rate\n",
        "        self.epochs = epochs\n",
        "        self.weights = None\n",
        "        self.bias = None\n",
        "\n",
        "    def fit(self, X, y):\n",
        "\n",
        "        num_features = X.shape[1]\n",
        "        self.weights = np.random.rand(num_features)\n",
        "        self.bias = np.random.rand()\n",
        "\n",
        "        for _ in range(self.epochs):\n",
        "            for i in range(X.shape[0]):\n",
        "\n",
        "                y_pred = self.predict(X[i])\n",
        "\n",
        "\n",
        "                if y_pred != y[i]:\n",
        "                    update = self.learning_rate * (y[i] - y_pred)\n",
        "                    self.weights += update * X[i]\n",
        "                    self.bias += update\n",
        "\n",
        "    def predict(self, X):\n",
        "\n",
        "        weighted_sum = np.dot(X, self.weights) + self.bias\n",
        "\n",
        "\n",
        "        if weighted_sum >= 0:\n",
        "            return 1\n",
        "        else:\n",
        "            return 0\n"
      ],
      "metadata": {
        "id": "4M1sNdsKbCOC"
      },
      "execution_count": 2,
      "outputs": []
    },
    {
      "cell_type": "markdown",
      "source": [
        "#And Perceptron"
      ],
      "metadata": {
        "id": "6GwSLohvcpvS"
      }
    },
    {
      "cell_type": "code",
      "source": [
        "X_and = np.array([[0, 0], [0, 1], [1, 0], [1, 1]])\n",
        "y_and = np.array([0, 0, 0, 1])"
      ],
      "metadata": {
        "id": "u783WDiobpLQ"
      },
      "execution_count": 3,
      "outputs": []
    },
    {
      "cell_type": "code",
      "source": [
        "and_perceptron = Perceptron()\n",
        "and_perceptron.fit(X_and, y_and)"
      ],
      "metadata": {
        "id": "UGfcPkQQclSB"
      },
      "execution_count": 4,
      "outputs": []
    },
    {
      "cell_type": "markdown",
      "source": [
        "# Or Perceptron"
      ],
      "metadata": {
        "id": "haBmlldhcwzB"
      }
    },
    {
      "cell_type": "code",
      "source": [
        "X_or = np.array([[0, 0], [0, 1], [1, 0], [1, 1]])\n",
        "y_or = np.array([0, 1, 1, 1])"
      ],
      "metadata": {
        "id": "n2Z91wouco9h"
      },
      "execution_count": 5,
      "outputs": []
    },
    {
      "cell_type": "code",
      "source": [
        "or_perceptron = Perceptron()\n",
        "or_perceptron.fit(X_or, y_or)"
      ],
      "metadata": {
        "id": "GpqPMPXAc5Gx"
      },
      "execution_count": 6,
      "outputs": []
    },
    {
      "cell_type": "markdown",
      "source": [
        "#Not Perceptron"
      ],
      "metadata": {
        "id": "sBRJ4kzmdCBg"
      }
    },
    {
      "cell_type": "code",
      "source": [
        "X_not = np.array([[0], [1]])\n",
        "y_not = np.array([1, 0])"
      ],
      "metadata": {
        "id": "IXEhjXNJc8Rx"
      },
      "execution_count": 7,
      "outputs": []
    },
    {
      "cell_type": "code",
      "source": [
        "not_perceptron = Perceptron()\n",
        "not_perceptron.fit(X_not, y_not)"
      ],
      "metadata": {
        "id": "ZBSAtzJ-c-dg"
      },
      "execution_count": 8,
      "outputs": []
    },
    {
      "cell_type": "code",
      "source": [
        "input_data = [[0, 0], [0, 1], [1, 0], [1, 1]]\n",
        "print(\"AND predictions:\", [and_perceptron.predict(x) for x in input_data])\n",
        "print(\"OR predictions:\", [or_perceptron.predict(x) for x in input_data])\n",
        "print(\"NOT predictions:\", [not_perceptron.predict(x) for x in [[0], [1]]])"
      ],
      "metadata": {
        "colab": {
          "base_uri": "https://localhost:8080/"
        },
        "id": "ASuIMpsIdDHg",
        "outputId": "3bab5e8d-66bd-47f0-e411-6075442689d6"
      },
      "execution_count": 9,
      "outputs": [
        {
          "output_type": "stream",
          "name": "stdout",
          "text": [
            "AND predictions: [0, 0, 0, 1]\n",
            "OR predictions: [0, 1, 1, 1]\n",
            "NOT predictions: [1, 0]\n"
          ]
        }
      ]
    }
  ]
}